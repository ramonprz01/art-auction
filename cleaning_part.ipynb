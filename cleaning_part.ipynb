{
 "cells": [
  {
   "cell_type": "code",
   "execution_count": 460,
   "metadata": {},
   "outputs": [],
   "source": [
    "import pandas as pd\n",
    "import json\n",
    "import re\n",
    "import numpy as np"
   ]
  },
  {
   "cell_type": "code",
   "execution_count": 461,
   "metadata": {},
   "outputs": [],
   "source": [
    "# load the dataset\n",
    "json_file = open('C:/Users/ramon/OneDrive/INSEAD/auction_proj/full_dataset.json', 'r')\n",
    "#, encoding='utf-8'\n",
    "data = json.load(json_file)"
   ]
  },
  {
   "cell_type": "code",
   "execution_count": 462,
   "metadata": {},
   "outputs": [],
   "source": [
    "# Extract the variables of the first page\n",
    "name = data[0]['name'].copy()\n",
    "links = data[0]['link'].copy()\n",
    "birth_year = data[0]['birth_year'].copy()\n",
    "birth_place = data[0]['birth_place'].copy()\n",
    "death_year = data[0]['death_year'].copy()\n",
    "death_place = data[0]['death_place'].copy()"
   ]
  },
  {
   "cell_type": "code",
   "execution_count": 463,
   "metadata": {},
   "outputs": [],
   "source": [
    "# Get the full links of the second pages before creating the dataframe\n",
    "full_links = []\n",
    "for link in links:\n",
    "    full = 'http://www.ifar.org/' + link\n",
    "    full_links.append(full)"
   ]
  },
  {
   "cell_type": "code",
   "execution_count": 464,
   "metadata": {},
   "outputs": [
    {
     "data": {
      "text/plain": [
       "['http://www.ifar.org/artist_name.php?nameid=1563&published=1&inPrep=1&author=',\n",
       " 'http://www.ifar.org/artist_name.php?nameid=1396&published=1&inPrep=1&author=',\n",
       " 'http://www.ifar.org/artist_name.php?nameid=1397&published=1&inPrep=1&author=',\n",
       " 'http://www.ifar.org/artist_name.php?nameid=3073&published=1&inPrep=1&author=',\n",
       " 'http://www.ifar.org/artist_name.php?nameid=2030&published=1&inPrep=1&author=']"
      ]
     },
     "execution_count": 464,
     "metadata": {},
     "output_type": "execute_result"
    }
   ],
   "source": [
    "# Check that the variables was created successfully\n",
    "full_links[:5]"
   ]
  },
  {
   "cell_type": "code",
   "execution_count": 465,
   "metadata": {},
   "outputs": [
    {
     "data": {
      "text/plain": [
       "2937"
      ]
     },
     "execution_count": 465,
     "metadata": {},
     "output_type": "execute_result"
    }
   ],
   "source": [
    "len(full_links)"
   ]
  },
  {
   "cell_type": "code",
   "execution_count": 466,
   "metadata": {},
   "outputs": [],
   "source": [
    "# Create the first dataset containing all of page 1\n",
    "page_one = pd.DataFrame(list(zip(name, full_links, birth_year, birth_place, death_year, death_place)),\n",
    "                          columns = ['names', 'links', 'birth_year', 'birth_place', 'death_year', 'death_place'])"
   ]
  },
  {
   "cell_type": "code",
   "execution_count": 467,
   "metadata": {},
   "outputs": [
    {
     "data": {
      "text/html": [
       "<div>\n",
       "<style scoped>\n",
       "    .dataframe tbody tr th:only-of-type {\n",
       "        vertical-align: middle;\n",
       "    }\n",
       "\n",
       "    .dataframe tbody tr th {\n",
       "        vertical-align: top;\n",
       "    }\n",
       "\n",
       "    .dataframe thead th {\n",
       "        text-align: right;\n",
       "    }\n",
       "</style>\n",
       "<table border=\"1\" class=\"dataframe\">\n",
       "  <thead>\n",
       "    <tr style=\"text-align: right;\">\n",
       "      <th></th>\n",
       "      <th>names</th>\n",
       "      <th>links</th>\n",
       "      <th>birth_year</th>\n",
       "      <th>birth_place</th>\n",
       "      <th>death_year</th>\n",
       "      <th>death_place</th>\n",
       "    </tr>\n",
       "  </thead>\n",
       "  <tbody>\n",
       "    <tr>\n",
       "      <th>0</th>\n",
       "      <td>Aachen, Hans von</td>\n",
       "      <td>http://www.ifar.org/artist_name.php?nameid=156...</td>\n",
       "      <td>&lt;td class=\"g_center_birth_year\"&gt;1552&lt;/td&gt;</td>\n",
       "      <td>&lt;td class=\"g_center_birth_place\"&gt;Germany&lt;/td&gt;</td>\n",
       "      <td>&lt;td class=\"g_center_death_year\"&gt;1615&lt;/td&gt;</td>\n",
       "      <td>&lt;td class=\"g_center_death_place\"&gt;Czech Republi...</td>\n",
       "    </tr>\n",
       "    <tr>\n",
       "      <th>1</th>\n",
       "      <td>Aalto, Alvar</td>\n",
       "      <td>http://www.ifar.org/artist_name.php?nameid=139...</td>\n",
       "      <td>&lt;td class=\"g_center_birth_year\"&gt;1898&lt;/td&gt;</td>\n",
       "      <td>&lt;td class=\"g_center_birth_place\"&gt;Finland&lt;/td&gt;</td>\n",
       "      <td>&lt;td class=\"g_center_death_year\"&gt;1976&lt;/td&gt;</td>\n",
       "      <td>&lt;td class=\"g_center_death_place\"&gt;Finland&lt;/td&gt;</td>\n",
       "    </tr>\n",
       "    <tr>\n",
       "      <th>2</th>\n",
       "      <td>Abbati, Giuseppe</td>\n",
       "      <td>http://www.ifar.org/artist_name.php?nameid=139...</td>\n",
       "      <td>&lt;td class=\"g_center_birth_year\"&gt;1836&lt;/td&gt;</td>\n",
       "      <td>&lt;td class=\"g_center_birth_place\"&gt;Italy&lt;/td&gt;</td>\n",
       "      <td>&lt;td class=\"g_center_death_year\"&gt;1868&lt;/td&gt;</td>\n",
       "      <td>&lt;td class=\"g_center_death_place\"&gt;Italy&lt;/td&gt;</td>\n",
       "    </tr>\n",
       "    <tr>\n",
       "      <th>3</th>\n",
       "      <td>Abdessemed, Adel</td>\n",
       "      <td>http://www.ifar.org/artist_name.php?nameid=307...</td>\n",
       "      <td>&lt;td class=\"g_center_birth_year\"&gt;1971&lt;/td&gt;</td>\n",
       "      <td>&lt;td class=\"g_center_birth_place\"&gt;Algeria&lt;/td&gt;</td>\n",
       "      <td>&lt;td class=\"g_center_death_year\"&gt;&lt;/td&gt;</td>\n",
       "      <td>&lt;td class=\"g_center_death_place\"&gt;&lt;/td&gt;</td>\n",
       "    </tr>\n",
       "    <tr>\n",
       "      <th>4</th>\n",
       "      <td>Abelenda Zapata, Manuel</td>\n",
       "      <td>http://www.ifar.org/artist_name.php?nameid=203...</td>\n",
       "      <td>&lt;td class=\"g_center_birth_year\"&gt;1889&lt;/td&gt;</td>\n",
       "      <td>&lt;td class=\"g_center_birth_place\"&gt;Spain&lt;/td&gt;</td>\n",
       "      <td>&lt;td class=\"g_center_death_year\"&gt;1957&lt;/td&gt;</td>\n",
       "      <td>&lt;td class=\"g_center_death_place\"&gt;Spain&lt;/td&gt;</td>\n",
       "    </tr>\n",
       "  </tbody>\n",
       "</table>\n",
       "</div>"
      ],
      "text/plain": [
       "                     names                                              links  \\\n",
       "0         Aachen, Hans von  http://www.ifar.org/artist_name.php?nameid=156...   \n",
       "1             Aalto, Alvar  http://www.ifar.org/artist_name.php?nameid=139...   \n",
       "2         Abbati, Giuseppe  http://www.ifar.org/artist_name.php?nameid=139...   \n",
       "3         Abdessemed, Adel  http://www.ifar.org/artist_name.php?nameid=307...   \n",
       "4  Abelenda Zapata, Manuel  http://www.ifar.org/artist_name.php?nameid=203...   \n",
       "\n",
       "                                  birth_year  \\\n",
       "0  <td class=\"g_center_birth_year\">1552</td>   \n",
       "1  <td class=\"g_center_birth_year\">1898</td>   \n",
       "2  <td class=\"g_center_birth_year\">1836</td>   \n",
       "3  <td class=\"g_center_birth_year\">1971</td>   \n",
       "4  <td class=\"g_center_birth_year\">1889</td>   \n",
       "\n",
       "                                     birth_place  \\\n",
       "0  <td class=\"g_center_birth_place\">Germany</td>   \n",
       "1  <td class=\"g_center_birth_place\">Finland</td>   \n",
       "2    <td class=\"g_center_birth_place\">Italy</td>   \n",
       "3  <td class=\"g_center_birth_place\">Algeria</td>   \n",
       "4    <td class=\"g_center_birth_place\">Spain</td>   \n",
       "\n",
       "                                  death_year  \\\n",
       "0  <td class=\"g_center_death_year\">1615</td>   \n",
       "1  <td class=\"g_center_death_year\">1976</td>   \n",
       "2  <td class=\"g_center_death_year\">1868</td>   \n",
       "3      <td class=\"g_center_death_year\"></td>   \n",
       "4  <td class=\"g_center_death_year\">1957</td>   \n",
       "\n",
       "                                         death_place  \n",
       "0  <td class=\"g_center_death_place\">Czech Republi...  \n",
       "1      <td class=\"g_center_death_place\">Finland</td>  \n",
       "2        <td class=\"g_center_death_place\">Italy</td>  \n",
       "3             <td class=\"g_center_death_place\"></td>  \n",
       "4        <td class=\"g_center_death_place\">Spain</td>  "
      ]
     },
     "execution_count": 467,
     "metadata": {},
     "output_type": "execute_result"
    }
   ],
   "source": [
    "page_one.head()"
   ]
  },
  {
   "cell_type": "code",
   "execution_count": 468,
   "metadata": {},
   "outputs": [],
   "source": [
    "# Clean all of the variables in the first page and add them again to the dataset\n",
    "regex = r'^(\\d{4})'\n",
    "def remove_html_tags(text):\n",
    "    \"\"\"Remove html tags from a string\"\"\"\n",
    "    import re\n",
    "    clean = re.compile('<.*?>')\n",
    "    return re.sub(clean, '', text)\n",
    "\n",
    "clean_byear = []\n",
    "clean_bplace = []\n",
    "clean_dyear = []\n",
    "clean_dplace = []\n",
    "\n",
    "for by in page_one['birth_year']:\n",
    "    f = remove_html_tags(by)\n",
    "    clean_byear.append(f)\n",
    "    \n",
    "for bp in page_one['birth_place']:\n",
    "    q = remove_html_tags(bp)\n",
    "    clean_bplace.append(q)\n",
    "    \n",
    "for dy in page_one['death_year']:\n",
    "    e = remove_html_tags(dy)\n",
    "    clean_dyear.append(e)\n",
    "    \n",
    "for dp in page_one['death_place']:\n",
    "    w = remove_html_tags(dp)\n",
    "    clean_dplace.append(w)\n",
    "\n",
    "page_one['birth_year'] = pd.Series(clean_byear)\n",
    "page_one['birth_place'] = pd.Series(clean_bplace)\n",
    "page_one['death_year'] = pd.Series(clean_dyear)\n",
    "page_one['death_place'] = pd.Series(clean_dplace)"
   ]
  },
  {
   "cell_type": "code",
   "execution_count": 469,
   "metadata": {},
   "outputs": [
    {
     "data": {
      "text/html": [
       "<div>\n",
       "<style scoped>\n",
       "    .dataframe tbody tr th:only-of-type {\n",
       "        vertical-align: middle;\n",
       "    }\n",
       "\n",
       "    .dataframe tbody tr th {\n",
       "        vertical-align: top;\n",
       "    }\n",
       "\n",
       "    .dataframe thead th {\n",
       "        text-align: right;\n",
       "    }\n",
       "</style>\n",
       "<table border=\"1\" class=\"dataframe\">\n",
       "  <thead>\n",
       "    <tr style=\"text-align: right;\">\n",
       "      <th></th>\n",
       "      <th>names</th>\n",
       "      <th>links</th>\n",
       "      <th>birth_year</th>\n",
       "      <th>birth_place</th>\n",
       "      <th>death_year</th>\n",
       "      <th>death_place</th>\n",
       "    </tr>\n",
       "  </thead>\n",
       "  <tbody>\n",
       "    <tr>\n",
       "      <th>2932</th>\n",
       "      <td>Zuccaro, Taddeo</td>\n",
       "      <td>http://www.ifar.org/artist_name.php?nameid=275...</td>\n",
       "      <td>1529</td>\n",
       "      <td>Italy</td>\n",
       "      <td>1566</td>\n",
       "      <td>Italy</td>\n",
       "    </tr>\n",
       "    <tr>\n",
       "      <th>2933</th>\n",
       "      <td>Zuloaga, Ignacio</td>\n",
       "      <td>http://www.ifar.org/artist_name.php?nameid=273...</td>\n",
       "      <td>1870</td>\n",
       "      <td>Spain</td>\n",
       "      <td>1945</td>\n",
       "      <td>Spain</td>\n",
       "    </tr>\n",
       "    <tr>\n",
       "      <th>2934</th>\n",
       "      <td>Zumthor, Peter</td>\n",
       "      <td>http://www.ifar.org/artist_name.php?nameid=269...</td>\n",
       "      <td>1943</td>\n",
       "      <td>Switzerland</td>\n",
       "      <td></td>\n",
       "      <td></td>\n",
       "    </tr>\n",
       "    <tr>\n",
       "      <th>2935</th>\n",
       "      <td>Zuñiga, Francisco</td>\n",
       "      <td>http://www.ifar.org/artist_name.php?nameid=109...</td>\n",
       "      <td>1912</td>\n",
       "      <td>Costa Rica</td>\n",
       "      <td>1998</td>\n",
       "      <td>Mexico</td>\n",
       "    </tr>\n",
       "    <tr>\n",
       "      <th>2936</th>\n",
       "      <td>Zurbarán, Francisco de</td>\n",
       "      <td>http://www.ifar.org/artist_name.php?nameid=110...</td>\n",
       "      <td>1598</td>\n",
       "      <td>Spain</td>\n",
       "      <td>1664</td>\n",
       "      <td>Spain</td>\n",
       "    </tr>\n",
       "  </tbody>\n",
       "</table>\n",
       "</div>"
      ],
      "text/plain": [
       "                       names  \\\n",
       "2932         Zuccaro, Taddeo   \n",
       "2933        Zuloaga, Ignacio   \n",
       "2934          Zumthor, Peter   \n",
       "2935       Zuñiga, Francisco   \n",
       "2936  Zurbarán, Francisco de   \n",
       "\n",
       "                                                  links birth_year  \\\n",
       "2932  http://www.ifar.org/artist_name.php?nameid=275...       1529   \n",
       "2933  http://www.ifar.org/artist_name.php?nameid=273...       1870   \n",
       "2934  http://www.ifar.org/artist_name.php?nameid=269...       1943   \n",
       "2935  http://www.ifar.org/artist_name.php?nameid=109...       1912   \n",
       "2936  http://www.ifar.org/artist_name.php?nameid=110...       1598   \n",
       "\n",
       "      birth_place death_year death_place  \n",
       "2932        Italy       1566       Italy  \n",
       "2933        Spain       1945       Spain  \n",
       "2934  Switzerland                         \n",
       "2935   Costa Rica       1998      Mexico  \n",
       "2936        Spain       1664       Spain  "
      ]
     },
     "execution_count": 469,
     "metadata": {},
     "output_type": "execute_result"
    }
   ],
   "source": [
    "# Make sure that the variables were cleaned correctly\n",
    "page_one.tail()"
   ]
  },
  {
   "cell_type": "code",
   "execution_count": 470,
   "metadata": {},
   "outputs": [],
   "source": [
    "# Make a copy of the rest of the dataset\n",
    "second_part = data[1:].copy()"
   ]
  },
  {
   "cell_type": "code",
   "execution_count": 471,
   "metadata": {},
   "outputs": [
    {
     "data": {
      "text/plain": [
       "7926"
      ]
     },
     "execution_count": 471,
     "metadata": {},
     "output_type": "execute_result"
    }
   ],
   "source": [
    "len(second_part)"
   ]
  },
  {
   "cell_type": "code",
   "execution_count": 472,
   "metadata": {},
   "outputs": [],
   "source": [
    "# Clean all of the variables for the second and third pages\n",
    "artist_one = []\n",
    "box_info = []\n",
    "artist_two = []\n",
    "column_names = []\n",
    "content = []\n",
    "\n",
    "for s in second_part:\n",
    "    for key, val in s.items():\n",
    "        if key == 'artist_one':\n",
    "            artist_one.append(val)\n",
    "        elif key == 'box_info':\n",
    "            box_info.append(val)\n",
    "        elif key == 'artist_two':\n",
    "            artist_two.append(val)\n",
    "        elif key == 'column_names':\n",
    "            column_names.append(val)\n",
    "        elif key == 'content':\n",
    "            content.append(val)"
   ]
  },
  {
   "cell_type": "code",
   "execution_count": 477,
   "metadata": {},
   "outputs": [
    {
     "data": {
      "text/plain": [
       "(4989, 2937)"
      ]
     },
     "execution_count": 477,
     "metadata": {},
     "output_type": "execute_result"
    }
   ],
   "source": [
    "len(content), len(name)"
   ]
  },
  {
   "cell_type": "code",
   "execution_count": 478,
   "metadata": {},
   "outputs": [
    {
     "data": {
      "text/plain": [
       "(['Published Catalogues',\n",
       "  'Hans von Aachen, 1552-1615.',\n",
       "  'click to learn more',\n",
       "  'Jacoby, Joachim W.',\n",
       "  'Munich ; Berlin : Deutscher Kunstverlag, 2000.'],\n",
       " 2937)"
      ]
     },
     "execution_count": 478,
     "metadata": {},
     "output_type": "execute_result"
    }
   ],
   "source": [
    "# Clean the box\n",
    "box_new = []\n",
    "for i in box_info:\n",
    "    tempora = []\n",
    "    for s in i:\n",
    "        gen = s.strip()\n",
    "        tempora.append(gen)\n",
    "    join_them = list(filter(None, tempora))\n",
    "    box_new.append(join_them)\n",
    "\n",
    "box_new[0], len(box_new)"
   ]
  },
  {
   "cell_type": "code",
   "execution_count": 479,
   "metadata": {},
   "outputs": [
    {
     "data": {
      "text/plain": [
       "('Rho, Manlio', 4989)"
      ]
     },
     "execution_count": 479,
     "metadata": {},
     "output_type": "execute_result"
    }
   ],
   "source": [
    "# Clean the new artist variable\n",
    "artist_three = []\n",
    "for i in artist_two:\n",
    "    gen = str(i).strip('Artist: ')\n",
    "    artist_three.append(gen)\n",
    "    \n",
    "artist_three[1], len(artist_three)"
   ]
  },
  {
   "cell_type": "code",
   "execution_count": 480,
   "metadata": {},
   "outputs": [
    {
     "data": {
      "text/plain": [
       "(['Item Title:',\n",
       "  'Author:',\n",
       "  'ISBN:',\n",
       "  'Imprint:',\n",
       "  'Language:',\n",
       "  'Size:',\n",
       "  'Pages:',\n",
       "  'Illustrations:',\n",
       "  'Concordance:',\n",
       "  'Bibliography:',\n",
       "  'Index:',\n",
       "  'Exhibition List:',\n",
       "  'Chronology:',\n",
       "  'Content Note:',\n",
       "  'Individual Entries Contain:',\n",
       "  'Public Note:'],\n",
       " 4989)"
      ]
     },
     "execution_count": 480,
     "metadata": {},
     "output_type": "execute_result"
    }
   ],
   "source": [
    "# Clean the new columns\n",
    "cols_news = []\n",
    "for i in column_names:\n",
    "    tempora = []\n",
    "    for s in i:\n",
    "        gen = s.strip()\n",
    "        tempora.append(gen)\n",
    "    cols_news.append(tempora)\n",
    "    \n",
    "cols_news[1], len(cols_news)"
   ]
  },
  {
   "cell_type": "code",
   "execution_count": 481,
   "metadata": {},
   "outputs": [
    {
     "data": {
      "text/plain": [
       "(['Rho : catalogo generale.',\n",
       "  'Caramel, Luciano',\n",
       "  '8843533339',\n",
       "  'Milan : Electa, 1990.',\n",
       "  'Italian',\n",
       "  '29 cm',\n",
       "  '316',\n",
       "  'b&w, some color',\n",
       "  'No',\n",
       "  'Yes',\n",
       "  'No',\n",
       "  'Yes',\n",
       "  'No',\n",
       "  'The catalogue is based on the Rho Archives in Como. It is divided into three parts: the chronological catalogue of the paintings, followed by separate catalogues covering drawings for textile designs and decorative projects. \\n\\nEntries provide title, date (if attributed, date is determined by style, exhibition information, etc), dimensions, written documentation found on the recto or verso. The catalogue also cites current owners, auction sale information, provenance, exhibition and bibliographic information, technical notes, and comments.',\n",
       "  'Provenance; Exhib. Hist; Bibliog.; Comments',\n",
       "  'After the introduction, there is a catalogue raisonné, followed by sections dealing with textile designs, graphic designs, and projects for interiors, exhibition displays, and architecture. \\n\\nThe appendix includes writings by the artist and interviews.'],\n",
       " 4989)"
      ]
     },
     "execution_count": 481,
     "metadata": {},
     "output_type": "execute_result"
    }
   ],
   "source": [
    "new_content = []\n",
    "for i in content:\n",
    "    tempora = []\n",
    "    for s in i:\n",
    "        gen = s.strip()\n",
    "        tempora.append(gen)\n",
    "    new_content.append(tempora)\n",
    "    \n",
    "new_content[1], len(new_content)"
   ]
  },
  {
   "cell_type": "code",
   "execution_count": null,
   "metadata": {},
   "outputs": [],
   "source": [
    "combined_it_cont = []\n",
    "\n",
    "for item, field in cols_news, new_content:\n",
    "    temporary = []\n",
    "    for s, u in item, field:\n",
    "        val = list(s, u)\n",
    "        temporary.append(val)\n",
    "    combined_it_cont.append(temporary)\n",
    "\n",
    "combined_it_cont[1]"
   ]
  },
  {
   "cell_type": "code",
   "execution_count": 493,
   "metadata": {},
   "outputs": [],
   "source": [
    "t1 = cols_news.copy()\n",
    "t2 = new_content.copy()"
   ]
  },
  {
   "cell_type": "code",
   "execution_count": 530,
   "metadata": {},
   "outputs": [],
   "source": [
    "data_cols = ['Artist name', 'Item Title', 'Status (Published or in Preparation)', 'Author', 'ISBN', 'Imprint',\n",
    "             'Language', 'Size', 'Pages', 'Illustrations', 'Concordance', 'Bibliography', 'Index',\n",
    "             'Exhibition List', 'Chronology', 'Individual Entries Contain', 'Public Note']\n"
   ]
  },
  {
   "cell_type": "code",
   "execution_count": 521,
   "metadata": {},
   "outputs": [],
   "source": [
    "third_page = pd.DataFrame(list(zip(artist_three, cols_news, new_content)), columns = ['name', 'col_names', 'content'])"
   ]
  },
  {
   "cell_type": "code",
   "execution_count": 531,
   "metadata": {},
   "outputs": [],
   "source": [
    "for i in data_cols:\n",
    "    third_page[i] = np.nan"
   ]
  },
  {
   "cell_type": "code",
   "execution_count": 532,
   "metadata": {},
   "outputs": [
    {
     "data": {
      "text/html": [
       "<div>\n",
       "<style scoped>\n",
       "    .dataframe tbody tr th:only-of-type {\n",
       "        vertical-align: middle;\n",
       "    }\n",
       "\n",
       "    .dataframe tbody tr th {\n",
       "        vertical-align: top;\n",
       "    }\n",
       "\n",
       "    .dataframe thead th {\n",
       "        text-align: right;\n",
       "    }\n",
       "</style>\n",
       "<table border=\"1\" class=\"dataframe\">\n",
       "  <thead>\n",
       "    <tr style=\"text-align: right;\">\n",
       "      <th></th>\n",
       "      <th>name</th>\n",
       "      <th>col_names</th>\n",
       "      <th>content</th>\n",
       "      <th>Artist name</th>\n",
       "      <th>Item Title</th>\n",
       "      <th>Status (Published or in Preparation)</th>\n",
       "      <th>Author</th>\n",
       "      <th>ISBN</th>\n",
       "      <th>Imprint</th>\n",
       "      <th>Language</th>\n",
       "      <th>Size</th>\n",
       "      <th>Pages</th>\n",
       "      <th>Illustrations</th>\n",
       "      <th>Concordance</th>\n",
       "      <th>Bibliography</th>\n",
       "      <th>Index</th>\n",
       "      <th>Exhibition List</th>\n",
       "      <th>Chronology</th>\n",
       "      <th>Individual Entries Contain</th>\n",
       "      <th>Public Note</th>\n",
       "    </tr>\n",
       "  </thead>\n",
       "  <tbody>\n",
       "    <tr>\n",
       "      <th>0</th>\n",
       "      <td>Rilke-Westhoff, Clara</td>\n",
       "      <td>[Item Title:, Author:, ISBN:, Imprint:, Langua...</td>\n",
       "      <td>[Die Bildhauerin Clara Rilke-Westhoff, 1878-19...</td>\n",
       "      <td>NaN</td>\n",
       "      <td>NaN</td>\n",
       "      <td>NaN</td>\n",
       "      <td>NaN</td>\n",
       "      <td>NaN</td>\n",
       "      <td>NaN</td>\n",
       "      <td>NaN</td>\n",
       "      <td>NaN</td>\n",
       "      <td>NaN</td>\n",
       "      <td>NaN</td>\n",
       "      <td>NaN</td>\n",
       "      <td>NaN</td>\n",
       "      <td>NaN</td>\n",
       "      <td>NaN</td>\n",
       "      <td>NaN</td>\n",
       "      <td>NaN</td>\n",
       "      <td>NaN</td>\n",
       "    </tr>\n",
       "    <tr>\n",
       "      <th>1</th>\n",
       "      <td>Rho, Manlio</td>\n",
       "      <td>[Item Title:, Author:, ISBN:, Imprint:, Langua...</td>\n",
       "      <td>[Rho : catalogo generale., Caramel, Luciano, 8...</td>\n",
       "      <td>NaN</td>\n",
       "      <td>NaN</td>\n",
       "      <td>NaN</td>\n",
       "      <td>NaN</td>\n",
       "      <td>NaN</td>\n",
       "      <td>NaN</td>\n",
       "      <td>NaN</td>\n",
       "      <td>NaN</td>\n",
       "      <td>NaN</td>\n",
       "      <td>NaN</td>\n",
       "      <td>NaN</td>\n",
       "      <td>NaN</td>\n",
       "      <td>NaN</td>\n",
       "      <td>NaN</td>\n",
       "      <td>NaN</td>\n",
       "      <td>NaN</td>\n",
       "      <td>NaN</td>\n",
       "    </tr>\n",
       "    <tr>\n",
       "      <th>2</th>\n",
       "      <td>Ribalta, Francisco</td>\n",
       "      <td>[Item Title:, Author:, ISBN:, Imprint:, Langua...</td>\n",
       "      <td>[Ribalta y los ribaltescos : la evolución del ...</td>\n",
       "      <td>NaN</td>\n",
       "      <td>NaN</td>\n",
       "      <td>NaN</td>\n",
       "      <td>NaN</td>\n",
       "      <td>NaN</td>\n",
       "      <td>NaN</td>\n",
       "      <td>NaN</td>\n",
       "      <td>NaN</td>\n",
       "      <td>NaN</td>\n",
       "      <td>NaN</td>\n",
       "      <td>NaN</td>\n",
       "      <td>NaN</td>\n",
       "      <td>NaN</td>\n",
       "      <td>NaN</td>\n",
       "      <td>NaN</td>\n",
       "      <td>NaN</td>\n",
       "      <td>NaN</td>\n",
       "    </tr>\n",
       "    <tr>\n",
       "      <th>3</th>\n",
       "      <td>Réquichot, Bernard</td>\n",
       "      <td>[Item Title:, Author(s):, Imprint:, Language:,...</td>\n",
       "      <td>[Bernard Réquichot., Barthes, Roland          ...</td>\n",
       "      <td>NaN</td>\n",
       "      <td>NaN</td>\n",
       "      <td>NaN</td>\n",
       "      <td>NaN</td>\n",
       "      <td>NaN</td>\n",
       "      <td>NaN</td>\n",
       "      <td>NaN</td>\n",
       "      <td>NaN</td>\n",
       "      <td>NaN</td>\n",
       "      <td>NaN</td>\n",
       "      <td>NaN</td>\n",
       "      <td>NaN</td>\n",
       "      <td>NaN</td>\n",
       "      <td>NaN</td>\n",
       "      <td>NaN</td>\n",
       "      <td>NaN</td>\n",
       "      <td>NaN</td>\n",
       "    </tr>\n",
       "    <tr>\n",
       "      <th>4</th>\n",
       "      <td>Révoil, Pierre-Hen</td>\n",
       "      <td>[Item Title:, Author:, Imprint:, Language:, Si...</td>\n",
       "      <td>[Fleury Richard et Pierre Révoil : la peinture...</td>\n",
       "      <td>NaN</td>\n",
       "      <td>NaN</td>\n",
       "      <td>NaN</td>\n",
       "      <td>NaN</td>\n",
       "      <td>NaN</td>\n",
       "      <td>NaN</td>\n",
       "      <td>NaN</td>\n",
       "      <td>NaN</td>\n",
       "      <td>NaN</td>\n",
       "      <td>NaN</td>\n",
       "      <td>NaN</td>\n",
       "      <td>NaN</td>\n",
       "      <td>NaN</td>\n",
       "      <td>NaN</td>\n",
       "      <td>NaN</td>\n",
       "      <td>NaN</td>\n",
       "      <td>NaN</td>\n",
       "    </tr>\n",
       "  </tbody>\n",
       "</table>\n",
       "</div>"
      ],
      "text/plain": [
       "                    name                                          col_names  \\\n",
       "0  Rilke-Westhoff, Clara  [Item Title:, Author:, ISBN:, Imprint:, Langua...   \n",
       "1            Rho, Manlio  [Item Title:, Author:, ISBN:, Imprint:, Langua...   \n",
       "2     Ribalta, Francisco  [Item Title:, Author:, ISBN:, Imprint:, Langua...   \n",
       "3     Réquichot, Bernard  [Item Title:, Author(s):, Imprint:, Language:,...   \n",
       "4     Révoil, Pierre-Hen  [Item Title:, Author:, Imprint:, Language:, Si...   \n",
       "\n",
       "                                             content  Artist name  Item Title  \\\n",
       "0  [Die Bildhauerin Clara Rilke-Westhoff, 1878-19...          NaN         NaN   \n",
       "1  [Rho : catalogo generale., Caramel, Luciano, 8...          NaN         NaN   \n",
       "2  [Ribalta y los ribaltescos : la evolución del ...          NaN         NaN   \n",
       "3  [Bernard Réquichot., Barthes, Roland          ...          NaN         NaN   \n",
       "4  [Fleury Richard et Pierre Révoil : la peinture...          NaN         NaN   \n",
       "\n",
       "   Status (Published or in Preparation)  Author  ISBN  Imprint  Language  \\\n",
       "0                                   NaN     NaN   NaN      NaN       NaN   \n",
       "1                                   NaN     NaN   NaN      NaN       NaN   \n",
       "2                                   NaN     NaN   NaN      NaN       NaN   \n",
       "3                                   NaN     NaN   NaN      NaN       NaN   \n",
       "4                                   NaN     NaN   NaN      NaN       NaN   \n",
       "\n",
       "   Size  Pages  Illustrations  Concordance  Bibliography  Index  \\\n",
       "0   NaN    NaN            NaN          NaN           NaN    NaN   \n",
       "1   NaN    NaN            NaN          NaN           NaN    NaN   \n",
       "2   NaN    NaN            NaN          NaN           NaN    NaN   \n",
       "3   NaN    NaN            NaN          NaN           NaN    NaN   \n",
       "4   NaN    NaN            NaN          NaN           NaN    NaN   \n",
       "\n",
       "   Exhibition List  Chronology  Individual Entries Contain  Public Note  \n",
       "0              NaN         NaN                         NaN          NaN  \n",
       "1              NaN         NaN                         NaN          NaN  \n",
       "2              NaN         NaN                         NaN          NaN  \n",
       "3              NaN         NaN                         NaN          NaN  \n",
       "4              NaN         NaN                         NaN          NaN  "
      ]
     },
     "execution_count": 532,
     "metadata": {},
     "output_type": "execute_result"
    }
   ],
   "source": [
    "third_page.head()"
   ]
  },
  {
   "cell_type": "code",
   "execution_count": null,
   "metadata": {},
   "outputs": [],
   "source": [
    "for i in third_page:\n",
    "    if third_page.col"
   ]
  },
  {
   "cell_type": "code",
   "execution_count": 594,
   "metadata": {},
   "outputs": [],
   "source": [
    "# Second dataset\n",
    "page_two = pd.DataFrame(list(zip(artist_one, box_new)), columns = ['name', 'box'])"
   ]
  },
  {
   "cell_type": "code",
   "execution_count": 595,
   "metadata": {},
   "outputs": [
    {
     "data": {
      "text/html": [
       "<div>\n",
       "<style scoped>\n",
       "    .dataframe tbody tr th:only-of-type {\n",
       "        vertical-align: middle;\n",
       "    }\n",
       "\n",
       "    .dataframe tbody tr th {\n",
       "        vertical-align: top;\n",
       "    }\n",
       "\n",
       "    .dataframe thead th {\n",
       "        text-align: right;\n",
       "    }\n",
       "</style>\n",
       "<table border=\"1\" class=\"dataframe\">\n",
       "  <thead>\n",
       "    <tr style=\"text-align: right;\">\n",
       "      <th></th>\n",
       "      <th>name</th>\n",
       "      <th>box</th>\n",
       "    </tr>\n",
       "  </thead>\n",
       "  <tbody>\n",
       "    <tr>\n",
       "      <th>0</th>\n",
       "      <td>Aachen, Hans von</td>\n",
       "      <td>[Published Catalogues, Hans von Aachen, 1552-1...</td>\n",
       "    </tr>\n",
       "    <tr>\n",
       "      <th>1</th>\n",
       "      <td>Acht, René Charles</td>\n",
       "      <td>[Published Catalogues, René Acht : Monographie...</td>\n",
       "    </tr>\n",
       "    <tr>\n",
       "      <th>2</th>\n",
       "      <td>Adam, Otto</td>\n",
       "      <td>[Published Catalogues, Der Maler Otto Adam (19...</td>\n",
       "    </tr>\n",
       "    <tr>\n",
       "      <th>3</th>\n",
       "      <td>Adams, Clinton</td>\n",
       "      <td>[Published Catalogues, A Meticulous Serenity :...</td>\n",
       "    </tr>\n",
       "    <tr>\n",
       "      <th>4</th>\n",
       "      <td>Accardi, Carla</td>\n",
       "      <td>[Published Catalogues, Carla Accardi : la vita...</td>\n",
       "    </tr>\n",
       "    <tr>\n",
       "      <th>5</th>\n",
       "      <td>Adams, Charles Partridge</td>\n",
       "      <td>[Catalogues in Preparation, Title unknown at t...</td>\n",
       "    </tr>\n",
       "    <tr>\n",
       "      <th>6</th>\n",
       "      <td>Adam, Robert</td>\n",
       "      <td>[Published Catalogues, The Complete Works of R...</td>\n",
       "    </tr>\n",
       "    <tr>\n",
       "      <th>7</th>\n",
       "      <td>Adam, James</td>\n",
       "      <td>[Published Catalogues, The Complete Works of R...</td>\n",
       "    </tr>\n",
       "    <tr>\n",
       "      <th>8</th>\n",
       "      <td>Abelenda Zapata, Manuel</td>\n",
       "      <td>[Published Catalogues, Manuel Abelenda : (1889...</td>\n",
       "    </tr>\n",
       "    <tr>\n",
       "      <th>9</th>\n",
       "      <td>Abdessemed, Adel</td>\n",
       "      <td>[Published Catalogues, Adel Abdessemed : Works...</td>\n",
       "    </tr>\n",
       "    <tr>\n",
       "      <th>10</th>\n",
       "      <td>Abbati, Giuseppe</td>\n",
       "      <td>[Published Catalogues, Giuseppe Abbati : l'ope...</td>\n",
       "    </tr>\n",
       "    <tr>\n",
       "      <th>11</th>\n",
       "      <td>Altenkirch, Otto</td>\n",
       "      <td>[Published Catalogues, Otto Altenkirch : 1875-...</td>\n",
       "    </tr>\n",
       "    <tr>\n",
       "      <th>12</th>\n",
       "      <td>Altenbourg, Gerhard</td>\n",
       "      <td>[Published Catalogues, Gerhard Altenbourg : Mo...</td>\n",
       "    </tr>\n",
       "    <tr>\n",
       "      <th>13</th>\n",
       "      <td>Alten, Mathias Joseph</td>\n",
       "      <td>[Published Catalogues, Mathias J. Alten : A Ca...</td>\n",
       "    </tr>\n",
       "    <tr>\n",
       "      <th>14</th>\n",
       "      <td>Altdorfer, Albrecht</td>\n",
       "      <td>[Published Catalogues, Albrecht Altdorfer, die...</td>\n",
       "    </tr>\n",
       "    <tr>\n",
       "      <th>15</th>\n",
       "      <td>Aalto, Alvar</td>\n",
       "      <td>[Published Catalogues, Alvar Aalto : Complete ...</td>\n",
       "    </tr>\n",
       "    <tr>\n",
       "      <th>16</th>\n",
       "      <td>Csaky, Joseph</td>\n",
       "      <td>[Catalogues in Preparation, Title unknown at t...</td>\n",
       "    </tr>\n",
       "    <tr>\n",
       "      <th>17</th>\n",
       "      <td>Itten, Johannes</td>\n",
       "      <td>[Published Catalogues, Johannes Itten : Catalo...</td>\n",
       "    </tr>\n",
       "    <tr>\n",
       "      <th>18</th>\n",
       "      <td>Israëls, Jozef</td>\n",
       "      <td>[Published Catalogues, Jozef Israels : een suc...</td>\n",
       "    </tr>\n",
       "    <tr>\n",
       "      <th>19</th>\n",
       "      <td>Isabey, Eugène</td>\n",
       "      <td>[Published Catalogues, Eugène Isabey, 1803-188...</td>\n",
       "    </tr>\n",
       "    <tr>\n",
       "      <th>20</th>\n",
       "      <td>Isaacsz, Pieter</td>\n",
       "      <td>[Published Catalogues, Pieter Isaacsz (1558-16...</td>\n",
       "    </tr>\n",
       "    <tr>\n",
       "      <th>21</th>\n",
       "      <td>Irwin, Robert</td>\n",
       "      <td>[Catalogues in Preparation, Robert Irwin Catal...</td>\n",
       "    </tr>\n",
       "    <tr>\n",
       "      <th>22</th>\n",
       "      <td>Irvin, Albert</td>\n",
       "      <td>[Published Catalogues, Albert Irvin : The Comp...</td>\n",
       "    </tr>\n",
       "    <tr>\n",
       "      <th>23</th>\n",
       "      <td>Ipoustéguy, Jean Robert</td>\n",
       "      <td>[Published Catalogues, Ipoustéguy, l'oeuvre sc...</td>\n",
       "    </tr>\n",
       "    <tr>\n",
       "      <th>24</th>\n",
       "      <td>Inness, George</td>\n",
       "      <td>[Catalogues in Preparation, Title unknown at t...</td>\n",
       "    </tr>\n",
       "    <tr>\n",
       "      <th>25</th>\n",
       "      <td>Moll, Carl</td>\n",
       "      <td>[Catalogues in Preparation, Title unknown at t...</td>\n",
       "    </tr>\n",
       "    <tr>\n",
       "      <th>26</th>\n",
       "      <td>Molinari, Antonio</td>\n",
       "      <td>[Published Catalogues, Antonio Molinari., clic...</td>\n",
       "    </tr>\n",
       "  </tbody>\n",
       "</table>\n",
       "</div>"
      ],
      "text/plain": [
       "                        name  \\\n",
       "0           Aachen, Hans von   \n",
       "1         Acht, René Charles   \n",
       "2                 Adam, Otto   \n",
       "3             Adams, Clinton   \n",
       "4             Accardi, Carla   \n",
       "5   Adams, Charles Partridge   \n",
       "6               Adam, Robert   \n",
       "7                Adam, James   \n",
       "8    Abelenda Zapata, Manuel   \n",
       "9           Abdessemed, Adel   \n",
       "10          Abbati, Giuseppe   \n",
       "11          Altenkirch, Otto   \n",
       "12       Altenbourg, Gerhard   \n",
       "13     Alten, Mathias Joseph   \n",
       "14       Altdorfer, Albrecht   \n",
       "15              Aalto, Alvar   \n",
       "16             Csaky, Joseph   \n",
       "17           Itten, Johannes   \n",
       "18            Israëls, Jozef   \n",
       "19            Isabey, Eugène   \n",
       "20           Isaacsz, Pieter   \n",
       "21             Irwin, Robert   \n",
       "22             Irvin, Albert   \n",
       "23   Ipoustéguy, Jean Robert   \n",
       "24            Inness, George   \n",
       "25                Moll, Carl   \n",
       "26         Molinari, Antonio   \n",
       "\n",
       "                                                  box  \n",
       "0   [Published Catalogues, Hans von Aachen, 1552-1...  \n",
       "1   [Published Catalogues, René Acht : Monographie...  \n",
       "2   [Published Catalogues, Der Maler Otto Adam (19...  \n",
       "3   [Published Catalogues, A Meticulous Serenity :...  \n",
       "4   [Published Catalogues, Carla Accardi : la vita...  \n",
       "5   [Catalogues in Preparation, Title unknown at t...  \n",
       "6   [Published Catalogues, The Complete Works of R...  \n",
       "7   [Published Catalogues, The Complete Works of R...  \n",
       "8   [Published Catalogues, Manuel Abelenda : (1889...  \n",
       "9   [Published Catalogues, Adel Abdessemed : Works...  \n",
       "10  [Published Catalogues, Giuseppe Abbati : l'ope...  \n",
       "11  [Published Catalogues, Otto Altenkirch : 1875-...  \n",
       "12  [Published Catalogues, Gerhard Altenbourg : Mo...  \n",
       "13  [Published Catalogues, Mathias J. Alten : A Ca...  \n",
       "14  [Published Catalogues, Albrecht Altdorfer, die...  \n",
       "15  [Published Catalogues, Alvar Aalto : Complete ...  \n",
       "16  [Catalogues in Preparation, Title unknown at t...  \n",
       "17  [Published Catalogues, Johannes Itten : Catalo...  \n",
       "18  [Published Catalogues, Jozef Israels : een suc...  \n",
       "19  [Published Catalogues, Eugène Isabey, 1803-188...  \n",
       "20  [Published Catalogues, Pieter Isaacsz (1558-16...  \n",
       "21  [Catalogues in Preparation, Robert Irwin Catal...  \n",
       "22  [Published Catalogues, Albert Irvin : The Comp...  \n",
       "23  [Published Catalogues, Ipoustéguy, l'oeuvre sc...  \n",
       "24  [Catalogues in Preparation, Title unknown at t...  \n",
       "25  [Catalogues in Preparation, Title unknown at t...  \n",
       "26  [Published Catalogues, Antonio Molinari., clic...  "
      ]
     },
     "execution_count": 595,
     "metadata": {},
     "output_type": "execute_result"
    }
   ],
   "source": [
    "page_two.head(27)"
   ]
  },
  {
   "cell_type": "code",
   "execution_count": 596,
   "metadata": {},
   "outputs": [
    {
     "data": {
      "text/plain": [
       "[1, 1, 1, 1]"
      ]
     },
     "execution_count": 596,
     "metadata": {},
     "output_type": "execute_result"
    }
   ],
   "source": [
    "occurr_publi = []\n",
    "for i in page_two.box:\n",
    "    if 'Published Catalogues' in i:\n",
    "        occurr_publi.append(1)\n",
    "    else:\n",
    "        occurr_publi.append(0)\n",
    "\n",
    "occurr_publi[1:5]  "
   ]
  },
  {
   "cell_type": "code",
   "execution_count": 597,
   "metadata": {},
   "outputs": [
    {
     "data": {
      "text/plain": [
       "[0, 0, 0, 0]"
      ]
     },
     "execution_count": 597,
     "metadata": {},
     "output_type": "execute_result"
    }
   ],
   "source": [
    "occurr_cat = []\n",
    "for i in page_two.box:\n",
    "    if 'Catalogues in Preparation' in i:\n",
    "        occurr_cat.append(1)\n",
    "    else:\n",
    "        occurr_cat.append(0)\n",
    "\n",
    "occurr_cat[1:5]"
   ]
  },
  {
   "cell_type": "code",
   "execution_count": 600,
   "metadata": {},
   "outputs": [
    {
     "data": {
      "text/html": [
       "<div>\n",
       "<style scoped>\n",
       "    .dataframe tbody tr th:only-of-type {\n",
       "        vertical-align: middle;\n",
       "    }\n",
       "\n",
       "    .dataframe tbody tr th {\n",
       "        vertical-align: top;\n",
       "    }\n",
       "\n",
       "    .dataframe thead th {\n",
       "        text-align: right;\n",
       "    }\n",
       "</style>\n",
       "<table border=\"1\" class=\"dataframe\">\n",
       "  <thead>\n",
       "    <tr style=\"text-align: right;\">\n",
       "      <th></th>\n",
       "      <th>name</th>\n",
       "      <th>box</th>\n",
       "      <th>publi_cat</th>\n",
       "      <th>cat_prep</th>\n",
       "    </tr>\n",
       "  </thead>\n",
       "  <tbody>\n",
       "    <tr>\n",
       "      <th>0</th>\n",
       "      <td>Aachen, Hans von</td>\n",
       "      <td>[Published Catalogues, Hans von Aachen, 1552-1...</td>\n",
       "      <td>1</td>\n",
       "      <td>0</td>\n",
       "    </tr>\n",
       "    <tr>\n",
       "      <th>1</th>\n",
       "      <td>Acht, René Charles</td>\n",
       "      <td>[Published Catalogues, René Acht : Monographie...</td>\n",
       "      <td>1</td>\n",
       "      <td>0</td>\n",
       "    </tr>\n",
       "    <tr>\n",
       "      <th>2</th>\n",
       "      <td>Adam, Otto</td>\n",
       "      <td>[Published Catalogues, Der Maler Otto Adam (19...</td>\n",
       "      <td>1</td>\n",
       "      <td>0</td>\n",
       "    </tr>\n",
       "    <tr>\n",
       "      <th>3</th>\n",
       "      <td>Adams, Clinton</td>\n",
       "      <td>[Published Catalogues, A Meticulous Serenity :...</td>\n",
       "      <td>1</td>\n",
       "      <td>0</td>\n",
       "    </tr>\n",
       "    <tr>\n",
       "      <th>4</th>\n",
       "      <td>Accardi, Carla</td>\n",
       "      <td>[Published Catalogues, Carla Accardi : la vita...</td>\n",
       "      <td>1</td>\n",
       "      <td>0</td>\n",
       "    </tr>\n",
       "  </tbody>\n",
       "</table>\n",
       "</div>"
      ],
      "text/plain": [
       "                 name                                                box  \\\n",
       "0    Aachen, Hans von  [Published Catalogues, Hans von Aachen, 1552-1...   \n",
       "1  Acht, René Charles  [Published Catalogues, René Acht : Monographie...   \n",
       "2          Adam, Otto  [Published Catalogues, Der Maler Otto Adam (19...   \n",
       "3      Adams, Clinton  [Published Catalogues, A Meticulous Serenity :...   \n",
       "4      Accardi, Carla  [Published Catalogues, Carla Accardi : la vita...   \n",
       "\n",
       "   publi_cat  cat_prep  \n",
       "0          1         0  \n",
       "1          1         0  \n",
       "2          1         0  \n",
       "3          1         0  \n",
       "4          1         0  "
      ]
     },
     "execution_count": 600,
     "metadata": {},
     "output_type": "execute_result"
    }
   ],
   "source": [
    "page_two['publi_cat'] = pd.Series(occurr_publi)\n",
    "page_two['cat_prep'] = pd.Series(occurr_cat)\n",
    "page_two.head()"
   ]
  },
  {
   "cell_type": "code",
   "execution_count": 557,
   "metadata": {},
   "outputs": [],
   "source": [
    "tags = page_two['box'].apply(pd.Series)"
   ]
  },
  {
   "cell_type": "code",
   "execution_count": 558,
   "metadata": {},
   "outputs": [],
   "source": [
    "tags = tags.rename(columns = lambda x : 'tag_' + str(x))"
   ]
  },
  {
   "cell_type": "code",
   "execution_count": 560,
   "metadata": {},
   "outputs": [
    {
     "data": {
      "text/plain": [
       "2937"
      ]
     },
     "execution_count": 560,
     "metadata": {},
     "output_type": "execute_result"
    }
   ],
   "source": [
    "pd.set_option('display.max_columns', 500)\n",
    "len(tags)"
   ]
  },
  {
   "cell_type": "code",
   "execution_count": null,
   "metadata": {},
   "outputs": [],
   "source": []
  }
 ],
 "metadata": {
  "kernelspec": {
   "display_name": "Python 3",
   "language": "python",
   "name": "python3"
  },
  "language_info": {
   "codemirror_mode": {
    "name": "ipython",
    "version": 3
   },
   "file_extension": ".py",
   "mimetype": "text/x-python",
   "name": "python",
   "nbconvert_exporter": "python",
   "pygments_lexer": "ipython3",
   "version": "3.7.3"
  }
 },
 "nbformat": 4,
 "nbformat_minor": 2
}
