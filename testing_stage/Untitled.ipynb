{
 "cells": [
  {
   "cell_type": "code",
   "execution_count": 2,
   "metadata": {},
   "outputs": [],
   "source": [
    "# load the libraries you'll need\n",
    "import re\n",
    "import pandas as pd\n",
    "import numpy as np\n",
    "import scrapy"
   ]
  },
  {
   "cell_type": "code",
   "execution_count": 3,
   "metadata": {},
   "outputs": [],
   "source": [
    "class AAproj(scrapy.Spider):\n",
    "    \n",
    "    name = 'artsy_project'\n",
    "    \n",
    "    \n",
    "    start_urls = [\n",
    "        'http://www.ifar.org/catalogues_raisonnes.php?alpha=&searchtype=artist&published=1&inPrep=1&artist=&author='\n",
    "    ]\n",
    "    \n",
    "    def parse(self, response):\n",
    "        for dat in response.xpath('//tr/td'):\n",
    "            yield {\n",
    "                'name': dat.css('td.g_center_name > a::text').extract_first(),\n",
    "                'link': dat.css('td.g_center_name > a::attr(href)').extract_first(),\n",
    "                'birth_year': dat.css('.g_center_birth_year').extract_first(),\n",
    "                'birth_place': dat.css('.g_center_birth_place').extract_first(),\n",
    "                'death_year': dat.css('.g_center_death_year').extract_first(),\n",
    "                'death_place': dat.css('.g_center_death_place').extract_first(),\n",
    "            }"
   ]
  },
  {
   "cell_type": "code",
   "execution_count": 4,
   "metadata": {},
   "outputs": [],
   "source": [
    " from scrapy.crawler import CrawlerProcess"
   ]
  },
  {
   "cell_type": "code",
   "execution_count": null,
   "metadata": {},
   "outputs": [],
   "source": [
    "# Run the Spider\n",
    "process = CrawlerProcess()\n",
    "process.crawl(AAproj)\n",
    "process.start()"
   ]
  },
  {
   "cell_type": "code",
   "execution_count": null,
   "metadata": {},
   "outputs": [],
   "source": []
  }
 ],
 "metadata": {
  "kernelspec": {
   "display_name": "Python 3",
   "language": "python",
   "name": "python3"
  },
  "language_info": {
   "codemirror_mode": {
    "name": "ipython",
    "version": 3
   },
   "file_extension": ".py",
   "mimetype": "text/x-python",
   "name": "python",
   "nbconvert_exporter": "python",
   "pygments_lexer": "ipython3",
   "version": "3.7.5"
  }
 },
 "nbformat": 4,
 "nbformat_minor": 2
}
