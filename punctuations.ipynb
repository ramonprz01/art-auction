{
 "cells": [
  {
   "cell_type": "markdown",
   "metadata": {},
   "source": [
    "# Getting rid of punctuations and accents in the Catalogue Raisonne Dataset"
   ]
  },
  {
   "cell_type": "markdown",
   "metadata": {},
   "source": [
    "## 1. Import the requires libraries"
   ]
  },
  {
   "cell_type": "code",
   "execution_count": null,
   "metadata": {},
   "outputs": [],
   "source": [
    "import pandas as pd\n",
    "import numpy as np\n",
    "from unidecode import unidecode"
   ]
  },
  {
   "cell_type": "markdown",
   "metadata": {},
   "source": [
    "If you do not have unidecode installed, please use the following command to install it. Remember that if you are using a Mac you might have to use `pip3` for the following command to work."
   ]
  },
  {
   "cell_type": "code",
   "execution_count": null,
   "metadata": {},
   "outputs": [],
   "source": [
    "!pip install unidecode"
   ]
  },
  {
   "cell_type": "markdown",
   "metadata": {},
   "source": [
    "## 2. Read the data and clean it"
   ]
  },
  {
   "cell_type": "markdown",
   "metadata": {},
   "source": [
    "Read the dataset and assign it to the variable df (a.k.a. dataframe)."
   ]
  },
  {
   "cell_type": "code",
   "execution_count": null,
   "metadata": {},
   "outputs": [],
   "source": [
    "# the excel spreadsheet provided had the data in \"Sheet2\" so update this as necessary\n",
    "df = pd.read_excel('Your/Path/catalogue_raisonne_data.xlsx', sheet_name=\"Sheet2\")"
   ]
  },
  {
   "cell_type": "markdown",
   "metadata": {},
   "source": [
    "The following lines of code `.apply` a `lambda` function to clean each pandas Series. They follow the steps below.\n",
    "1. Take the pandas Series we would like to modify\n",
    "2. Convert each element into string (np.nan are consider floats)\n",
    "3. Clean the punctuations and accents for each element in the Series\n",
    "4. For those containing \"NaN\" values it we reformat them as np.nan\n",
    "5. Create a new variable in our dataframe called \"new_...\""
   ]
  },
  {
   "cell_type": "code",
   "execution_count": null,
   "metadata": {},
   "outputs": [],
   "source": [
    "df['new_artist'] = df['artist'].apply(lambda x: unidecode(str(x)))\n",
    "df['new_author'] = df['author'].apply(lambda x: unidecode(str(x))).apply(lambda x: np.nan if x == 'nan' else x)\n",
    "df['new_author_s'] = df['author_s'].apply(lambda x: unidecode(str(x))).apply(lambda x: np.nan if x == 'nan' else x)\n",
    "df['new_imprint'] = df['imprint'].apply(lambda x: unidecode(str(x))).apply(lambda x: np.nan if x == 'nan' else x)\n",
    "df['new_public_note'] = df['public_note'].apply(lambda x: unidecode(str(x))).apply(lambda x: np.nan if x == 'nan' else x)\n",
    "df.head() #observe your data to make sure the columns were successfully created"
   ]
  },
  {
   "cell_type": "markdown",
   "metadata": {},
   "source": [
    "## 3. Save the data"
   ]
  },
  {
   "cell_type": "code",
   "execution_count": null,
   "metadata": {},
   "outputs": [],
   "source": [
    "df.to_csv('new_catalogue_raisonne.csv', index=False, encoding='utf-8')"
   ]
  },
  {
   "cell_type": "markdown",
   "metadata": {},
   "source": [
    "Make sure it was saved successfully."
   ]
  },
  {
   "cell_type": "code",
   "execution_count": null,
   "metadata": {},
   "outputs": [],
   "source": [
    "pd.read_csv('new_catalogue_raisonne.csv')"
   ]
  }
 ],
 "metadata": {
  "kernelspec": {
   "display_name": "Python 3",
   "language": "python",
   "name": "python3"
  },
  "language_info": {
   "codemirror_mode": {
    "name": "ipython",
    "version": 3
   },
   "file_extension": ".py",
   "mimetype": "text/x-python",
   "name": "python",
   "nbconvert_exporter": "python",
   "pygments_lexer": "ipython3",
   "version": "3.7.3"
  }
 },
 "nbformat": 4,
 "nbformat_minor": 2
}
